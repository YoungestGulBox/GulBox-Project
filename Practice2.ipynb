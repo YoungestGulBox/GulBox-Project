{
  "nbformat": 4,
  "nbformat_minor": 0,
  "metadata": {
    "colab": {
      "name": "Practice2.ipynb",
      "provenance": [],
      "collapsed_sections": [],
      "authorship_tag": "ABX9TyOqSsq82j1+9I5lPFHytY6d",
      "include_colab_link": true
    },
    "kernelspec": {
      "name": "python3",
      "display_name": "Python 3"
    },
    "language_info": {
      "name": "python"
    }
  },
  "cells": [
    {
      "cell_type": "markdown",
      "metadata": {
        "id": "view-in-github",
        "colab_type": "text"
      },
      "source": [
        "<a href=\"https://colab.research.google.com/github/YoungestGulBox/GulBox-Project/blob/master/Practice2.ipynb\" target=\"_parent\"><img src=\"https://colab.research.google.com/assets/colab-badge.svg\" alt=\"Open In Colab\"/></a>"
      ]
    },
    {
      "cell_type": "code",
      "execution_count": 12,
      "metadata": {
        "id": "ImkXmp5glAPa",
        "colab": {
          "base_uri": "https://localhost:8080/"
        },
        "outputId": "297ac093-14f1-4ca5-e4bf-a3e0b7d9f6a0"
      },
      "outputs": [
        {
          "output_type": "stream",
          "name": "stdout",
          "text": [
            "[남은 치킨 : 10]\n",
            "치킨 몇 마리를 주문하시겠습니까?10\n",
            "[대기번호 1] 10 마리 주문이 완료되었습니다\n",
            "재고가 소진되어 영업을 종료합니다\n"
          ]
        }
      ],
      "source": [
        "# class House:\n",
        "#     def __init__(self, location, house_type, deal_type, price, completion_year):\n",
        "#         self.location = location\n",
        "#         self.house_type = house_type\n",
        "#         self.deal_type = deal_type\n",
        "#         self.price = price\n",
        "#         self.completion_year = completion_year\n",
        "\n",
        "#     def show_detail(self):\n",
        "#         print(\"{0} {1} {2} {3} {4}년\".format(self.location, self.house_type, self.deal_type, self.price, \\\n",
        "#                                             self.completion_year))\n",
        " \n",
        "# house1 = House(\"강남\", \"아파트\", \"매매\", \"10억\", \"2010\")        \n",
        "# house2 = House(\"마포\", \"오피스텔\", \"전세\", \"5억\", \"2007\")\n",
        "# house3 = House(\"송파\", \"빌라\", \"월세\", \"500/50\", \"2007\")\n",
        "\n",
        "# product = [house1, house2, house3]\n",
        "# print(\"총 {}대의 매물이 있습니다\".format(len(product)))\n",
        "# for i in product:\n",
        "#     i.show_detail()\n",
        "\n",
        "\n",
        "class SoldOutError(Exception):\n",
        "    def __init__ (self, msg):\n",
        "        self.msg = msg\n",
        "\n",
        "    def __str__ (self):\n",
        "        return self.msg\n",
        "\n",
        "chicken = 10\n",
        "waiting = 1\n",
        "while(True):\n",
        "    try:\n",
        "        print(\"[남은 치킨 : {0}]\".format(chicken))\n",
        "        order = int(input(\"치킨 몇 마리를 주문하시겠습니까?\"))\n",
        "        if order < 1:\n",
        "            raise ValueError\n",
        "\n",
        "        elif order > chicken:\n",
        "                print(\"재료가 부족합니다\")\n",
        "        else:\n",
        "                print(\"[대기번호 {0}] {1} 마리 주문이 완료되었습니다\".format(waiting, order))\n",
        "                waiting += 1\n",
        "                chicken -= order\n",
        "\n",
        "        if chicken == 0:\n",
        "                raise SoldOutError(\"재고가 소진되어 영업을 종료합니다\")\n",
        "\n",
        "    except ValueError:\n",
        "            print(\"잘못된 값을 입력하였습니다\")\n",
        "\n",
        "    except SoldOutError as err:\n",
        "            print(err)\n",
        "            break\n"
      ]
    },
    {
      "cell_type": "code",
      "source": [
        ""
      ],
      "metadata": {
        "id": "9P9LVKODFqd4"
      },
      "execution_count": null,
      "outputs": []
    },
    {
      "cell_type": "code",
      "source": [
        "from google.colab import drive\n",
        "drive.mount('/content/drive')"
      ],
      "metadata": {
        "id": "1XIQEfD0vuB3"
      },
      "execution_count": null,
      "outputs": []
    }
  ]
}